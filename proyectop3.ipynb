{
  "nbformat": 4,
  "nbformat_minor": 0,
  "metadata": {
    "colab": {
      "name": "proyectop3.ipynb",
      "provenance": [],
      "authorship_tag": "ABX9TyNah+ZbW+hSXo7/Vw1lbXmW",
      "include_colab_link": true
    },
    "kernelspec": {
      "name": "python3",
      "display_name": "Python 3"
    },
    "language_info": {
      "name": "python"
    }
  },
  "cells": [
    {
      "cell_type": "markdown",
      "metadata": {
        "id": "view-in-github",
        "colab_type": "text"
      },
      "source": [
        "<a href=\"https://colab.research.google.com/github/diegoalvarezeo/sistem_web/blob/master/proyectop3.ipynb\" target=\"_parent\"><img src=\"https://colab.research.google.com/assets/colab-badge.svg\" alt=\"Open In Colab\"/></a>"
      ]
    },
    {
      "cell_type": "code",
      "metadata": {
        "id": "DXm8DvbOsPw8"
      },
      "source": [
        "#librerias a utilizar\n",
        "import numpy as np\n",
        "import pandas as pd\n",
        "import re\n",
        "from nltk.corpus import stopwords\n",
        "from nltk.stem.porter import PorterStemmer\n",
        "from sklearn.feature_extraction.text import TfidfVectorizer\n",
        "from sklearn.model_selection import train_test_split\n",
        "from sklearn.linear_model import LogisticRegression\n",
        "from sklearn.metrics import accuracy_score"
      ],
      "execution_count": 113,
      "outputs": []
    },
    {
      "cell_type": "code",
      "metadata": {
        "colab": {
          "base_uri": "https://localhost:8080/"
        },
        "id": "Mt34vPI8xeNp",
        "outputId": "294b85f6-34c9-4109-a5d0-573649176a62"
      },
      "source": [
        "#Palabras vacias\n",
        "import nltk\n",
        "nltk.download('stopwords')"
      ],
      "execution_count": 114,
      "outputs": [
        {
          "output_type": "stream",
          "text": [
            "[nltk_data] Downloading package stopwords to /root/nltk_data...\n",
            "[nltk_data]   Package stopwords is already up-to-date!\n"
          ],
          "name": "stdout"
        },
        {
          "output_type": "execute_result",
          "data": {
            "text/plain": [
              "True"
            ]
          },
          "metadata": {
            "tags": []
          },
          "execution_count": 114
        }
      ]
    },
    {
      "cell_type": "code",
      "metadata": {
        "colab": {
          "base_uri": "https://localhost:8080/"
        },
        "id": "JW-dk9aaWHIc",
        "outputId": "150c5111-c1db-4ebc-fb27-01d553d71a99"
      },
      "source": [
        "print(stopwords.words('spanish'))"
      ],
      "execution_count": 159,
      "outputs": [
        {
          "output_type": "stream",
          "text": [
            "['de', 'la', 'que', 'el', 'en', 'y', 'a', 'los', 'del', 'se', 'las', 'por', 'un', 'para', 'con', 'no', 'una', 'su', 'al', 'lo', 'como', 'más', 'pero', 'sus', 'le', 'ya', 'o', 'este', 'sí', 'porque', 'esta', 'entre', 'cuando', 'muy', 'sin', 'sobre', 'también', 'me', 'hasta', 'hay', 'donde', 'quien', 'desde', 'todo', 'nos', 'durante', 'todos', 'uno', 'les', 'ni', 'contra', 'otros', 'ese', 'eso', 'ante', 'ellos', 'e', 'esto', 'mí', 'antes', 'algunos', 'qué', 'unos', 'yo', 'otro', 'otras', 'otra', 'él', 'tanto', 'esa', 'estos', 'mucho', 'quienes', 'nada', 'muchos', 'cual', 'poco', 'ella', 'estar', 'estas', 'algunas', 'algo', 'nosotros', 'mi', 'mis', 'tú', 'te', 'ti', 'tu', 'tus', 'ellas', 'nosotras', 'vosotros', 'vosotras', 'os', 'mío', 'mía', 'míos', 'mías', 'tuyo', 'tuya', 'tuyos', 'tuyas', 'suyo', 'suya', 'suyos', 'suyas', 'nuestro', 'nuestra', 'nuestros', 'nuestras', 'vuestro', 'vuestra', 'vuestros', 'vuestras', 'esos', 'esas', 'estoy', 'estás', 'está', 'estamos', 'estáis', 'están', 'esté', 'estés', 'estemos', 'estéis', 'estén', 'estaré', 'estarás', 'estará', 'estaremos', 'estaréis', 'estarán', 'estaría', 'estarías', 'estaríamos', 'estaríais', 'estarían', 'estaba', 'estabas', 'estábamos', 'estabais', 'estaban', 'estuve', 'estuviste', 'estuvo', 'estuvimos', 'estuvisteis', 'estuvieron', 'estuviera', 'estuvieras', 'estuviéramos', 'estuvierais', 'estuvieran', 'estuviese', 'estuvieses', 'estuviésemos', 'estuvieseis', 'estuviesen', 'estando', 'estado', 'estada', 'estados', 'estadas', 'estad', 'he', 'has', 'ha', 'hemos', 'habéis', 'han', 'haya', 'hayas', 'hayamos', 'hayáis', 'hayan', 'habré', 'habrás', 'habrá', 'habremos', 'habréis', 'habrán', 'habría', 'habrías', 'habríamos', 'habríais', 'habrían', 'había', 'habías', 'habíamos', 'habíais', 'habían', 'hube', 'hubiste', 'hubo', 'hubimos', 'hubisteis', 'hubieron', 'hubiera', 'hubieras', 'hubiéramos', 'hubierais', 'hubieran', 'hubiese', 'hubieses', 'hubiésemos', 'hubieseis', 'hubiesen', 'habiendo', 'habido', 'habida', 'habidos', 'habidas', 'soy', 'eres', 'es', 'somos', 'sois', 'son', 'sea', 'seas', 'seamos', 'seáis', 'sean', 'seré', 'serás', 'será', 'seremos', 'seréis', 'serán', 'sería', 'serías', 'seríamos', 'seríais', 'serían', 'era', 'eras', 'éramos', 'erais', 'eran', 'fui', 'fuiste', 'fue', 'fuimos', 'fuisteis', 'fueron', 'fuera', 'fueras', 'fuéramos', 'fuerais', 'fueran', 'fuese', 'fueses', 'fuésemos', 'fueseis', 'fuesen', 'sintiendo', 'sentido', 'sentida', 'sentidos', 'sentidas', 'siente', 'sentid', 'tengo', 'tienes', 'tiene', 'tenemos', 'tenéis', 'tienen', 'tenga', 'tengas', 'tengamos', 'tengáis', 'tengan', 'tendré', 'tendrás', 'tendrá', 'tendremos', 'tendréis', 'tendrán', 'tendría', 'tendrías', 'tendríamos', 'tendríais', 'tendrían', 'tenía', 'tenías', 'teníamos', 'teníais', 'tenían', 'tuve', 'tuviste', 'tuvo', 'tuvimos', 'tuvisteis', 'tuvieron', 'tuviera', 'tuvieras', 'tuviéramos', 'tuvierais', 'tuvieran', 'tuviese', 'tuvieses', 'tuviésemos', 'tuvieseis', 'tuviesen', 'teniendo', 'tenido', 'tenida', 'tenidos', 'tenidas', 'tened']\n"
          ],
          "name": "stdout"
        }
      ]
    },
    {
      "cell_type": "code",
      "metadata": {
        "id": "wCluVboxr4JK"
      },
      "source": [
        "#Paquetes individuales de noticias de kaggle\n",
        "true = pd.read_csv(\"onlytrue1000.csv\")\n",
        "fake = pd.read_csv(\"onlyfakes1000.csv\")"
      ],
      "execution_count": 115,
      "outputs": []
    },
    {
      "cell_type": "code",
      "metadata": {
        "colab": {
          "base_uri": "https://localhost:8080/",
          "height": 203
        },
        "id": "lIg27nC-sjVU",
        "outputId": "74f0da21-dbce-4c22-d1f5-87edcc30f9a0"
      },
      "source": [
        "\n",
        "true.head()"
      ],
      "execution_count": 117,
      "outputs": [
        {
          "output_type": "execute_result",
          "data": {
            "text/html": [
              "<div>\n",
              "<style scoped>\n",
              "    .dataframe tbody tr th:only-of-type {\n",
              "        vertical-align: middle;\n",
              "    }\n",
              "\n",
              "    .dataframe tbody tr th {\n",
              "        vertical-align: top;\n",
              "    }\n",
              "\n",
              "    .dataframe thead th {\n",
              "        text-align: right;\n",
              "    }\n",
              "</style>\n",
              "<table border=\"1\" class=\"dataframe\">\n",
              "  <thead>\n",
              "    <tr style=\"text-align: right;\">\n",
              "      <th></th>\n",
              "      <th>text</th>\n",
              "    </tr>\n",
              "  </thead>\n",
              "  <tbody>\n",
              "    <tr>\n",
              "      <th>0</th>\n",
              "      <td>Algunas de las voces extremistas más conocida...</td>\n",
              "    </tr>\n",
              "    <tr>\n",
              "      <th>1</th>\n",
              "      <td>Después de casi dos años y medio de luchas po...</td>\n",
              "    </tr>\n",
              "    <tr>\n",
              "      <th>2</th>\n",
              "      <td>Dos periodistas birmanos de la agencia Reuter...</td>\n",
              "    </tr>\n",
              "    <tr>\n",
              "      <th>3</th>\n",
              "      <td>El Cuerpo Nacional de Policía ha detenido a c...</td>\n",
              "    </tr>\n",
              "    <tr>\n",
              "      <th>4</th>\n",
              "      <td>El desfile de la firma en Roma se convierte e...</td>\n",
              "    </tr>\n",
              "  </tbody>\n",
              "</table>\n",
              "</div>"
            ],
            "text/plain": [
              "                                                text\n",
              "0   Algunas de las voces extremistas más conocida...\n",
              "1   Después de casi dos años y medio de luchas po...\n",
              "2   Dos periodistas birmanos de la agencia Reuter...\n",
              "3   El Cuerpo Nacional de Policía ha detenido a c...\n",
              "4   El desfile de la firma en Roma se convierte e..."
            ]
          },
          "metadata": {
            "tags": []
          },
          "execution_count": 117
        }
      ]
    },
    {
      "cell_type": "code",
      "metadata": {
        "colab": {
          "base_uri": "https://localhost:8080/",
          "height": 203
        },
        "id": "5tA_hLzMspbe",
        "outputId": "553dade3-620b-457e-8248-1284a63b2aa7"
      },
      "source": [
        "fake.head()"
      ],
      "execution_count": 118,
      "outputs": [
        {
          "output_type": "execute_result",
          "data": {
            "text/html": [
              "<div>\n",
              "<style scoped>\n",
              "    .dataframe tbody tr th:only-of-type {\n",
              "        vertical-align: middle;\n",
              "    }\n",
              "\n",
              "    .dataframe tbody tr th {\n",
              "        vertical-align: top;\n",
              "    }\n",
              "\n",
              "    .dataframe thead th {\n",
              "        text-align: right;\n",
              "    }\n",
              "</style>\n",
              "<table border=\"1\" class=\"dataframe\">\n",
              "  <thead>\n",
              "    <tr style=\"text-align: right;\">\n",
              "      <th></th>\n",
              "      <th>text</th>\n",
              "    </tr>\n",
              "  </thead>\n",
              "  <tbody>\n",
              "    <tr>\n",
              "      <th>0</th>\n",
              "      <td>El suceso ha tenido lugar en Brasil. Un adole...</td>\n",
              "    </tr>\n",
              "    <tr>\n",
              "      <th>1</th>\n",
              "      <td>Estamos en la semana decisiva. Los expertos a...</td>\n",
              "    </tr>\n",
              "    <tr>\n",
              "      <th>2</th>\n",
              "      <td>Estudios científicos hay muchos. Unos nos int...</td>\n",
              "    </tr>\n",
              "    <tr>\n",
              "      <th>3</th>\n",
              "      <td>Ha sucedido en la ciudad de San José de Río P...</td>\n",
              "    </tr>\n",
              "    <tr>\n",
              "      <th>4</th>\n",
              "      <td>La fiesta en Sevilla por el vuelco electoral ...</td>\n",
              "    </tr>\n",
              "  </tbody>\n",
              "</table>\n",
              "</div>"
            ],
            "text/plain": [
              "                                                text\n",
              "0   El suceso ha tenido lugar en Brasil. Un adole...\n",
              "1   Estamos en la semana decisiva. Los expertos a...\n",
              "2   Estudios científicos hay muchos. Unos nos int...\n",
              "3   Ha sucedido en la ciudad de San José de Río P...\n",
              "4   La fiesta en Sevilla por el vuelco electoral ..."
            ]
          },
          "metadata": {
            "tags": []
          },
          "execution_count": 118
        }
      ]
    },
    {
      "cell_type": "code",
      "metadata": {
        "colab": {
          "base_uri": "https://localhost:8080/"
        },
        "id": "DxD-XT2bsuR8",
        "outputId": "62f999d5-c74a-4240-bd64-54f64e423b28"
      },
      "source": [
        "true.shape, fake.shape"
      ],
      "execution_count": 119,
      "outputs": [
        {
          "output_type": "execute_result",
          "data": {
            "text/plain": [
              "((1000, 1), (1000, 1))"
            ]
          },
          "metadata": {
            "tags": []
          },
          "execution_count": 119
        }
      ]
    },
    {
      "cell_type": "code",
      "metadata": {
        "id": "ed4hherss-yS"
      },
      "source": [
        "#Agregando columnas a las noticias, en este caso fake = 1 y true = 0\n",
        "true['label'] = 0\n",
        "fake['label'] = 1"
      ],
      "execution_count": 120,
      "outputs": []
    },
    {
      "cell_type": "code",
      "metadata": {
        "id": "3XCQW0_2tcum"
      },
      "source": [
        "#Concatenación de datasets\n",
        "df = pd.concat([true,fake])"
      ],
      "execution_count": 121,
      "outputs": []
    },
    {
      "cell_type": "code",
      "metadata": {
        "colab": {
          "base_uri": "https://localhost:8080/",
          "height": 357
        },
        "id": "B4KNpvSVtsoh",
        "outputId": "b1cd59b4-a872-4297-b470-46a1e4c54575"
      },
      "source": [
        "df.sample(10)"
      ],
      "execution_count": 122,
      "outputs": [
        {
          "output_type": "execute_result",
          "data": {
            "text/html": [
              "<div>\n",
              "<style scoped>\n",
              "    .dataframe tbody tr th:only-of-type {\n",
              "        vertical-align: middle;\n",
              "    }\n",
              "\n",
              "    .dataframe tbody tr th {\n",
              "        vertical-align: top;\n",
              "    }\n",
              "\n",
              "    .dataframe thead th {\n",
              "        text-align: right;\n",
              "    }\n",
              "</style>\n",
              "<table border=\"1\" class=\"dataframe\">\n",
              "  <thead>\n",
              "    <tr style=\"text-align: right;\">\n",
              "      <th></th>\n",
              "      <th>text</th>\n",
              "      <th>label</th>\n",
              "    </tr>\n",
              "  </thead>\n",
              "  <tbody>\n",
              "    <tr>\n",
              "      <th>886</th>\n",
              "      <td>Vecinos del madrileño barrio de La Concepción ...</td>\n",
              "      <td>1</td>\n",
              "    </tr>\n",
              "    <tr>\n",
              "      <th>175</th>\n",
              "      <td>Como explica el profesor, los pacientes que se...</td>\n",
              "      <td>1</td>\n",
              "    </tr>\n",
              "    <tr>\n",
              "      <th>362</th>\n",
              "      <td>En la España gobernada por el sorista Pedro Sá...</td>\n",
              "      <td>1</td>\n",
              "    </tr>\n",
              "    <tr>\n",
              "      <th>857</th>\n",
              "      <td>Un equipo conjunto de investigación formado po...</td>\n",
              "      <td>0</td>\n",
              "    </tr>\n",
              "    <tr>\n",
              "      <th>80</th>\n",
              "      <td>El juez Manuel García Castellón ha dejado en ...</td>\n",
              "      <td>0</td>\n",
              "    </tr>\n",
              "    <tr>\n",
              "      <th>525</th>\n",
              "      <td>Fue ingresado en psiquiátricos por su ambigüed...</td>\n",
              "      <td>0</td>\n",
              "    </tr>\n",
              "    <tr>\n",
              "      <th>349</th>\n",
              "      <td>En Caso Aislado hemos tenido acceso a unas imá...</td>\n",
              "      <td>1</td>\n",
              "    </tr>\n",
              "    <tr>\n",
              "      <th>448</th>\n",
              "      <td>Hay cientos de días para celebrar señalados en...</td>\n",
              "      <td>1</td>\n",
              "    </tr>\n",
              "    <tr>\n",
              "      <th>569</th>\n",
              "      <td>La cifra de profesionales tunecinos que emigra...</td>\n",
              "      <td>0</td>\n",
              "    </tr>\n",
              "    <tr>\n",
              "      <th>750</th>\n",
              "      <td>McKrae Game lideró durante casi veinte años la...</td>\n",
              "      <td>0</td>\n",
              "    </tr>\n",
              "  </tbody>\n",
              "</table>\n",
              "</div>"
            ],
            "text/plain": [
              "                                                  text  label\n",
              "886  Vecinos del madrileño barrio de La Concepción ...      1\n",
              "175  Como explica el profesor, los pacientes que se...      1\n",
              "362  En la España gobernada por el sorista Pedro Sá...      1\n",
              "857  Un equipo conjunto de investigación formado po...      0\n",
              "80    El juez Manuel García Castellón ha dejado en ...      0\n",
              "525  Fue ingresado en psiquiátricos por su ambigüed...      0\n",
              "349  En Caso Aislado hemos tenido acceso a unas imá...      1\n",
              "448  Hay cientos de días para celebrar señalados en...      1\n",
              "569  La cifra de profesionales tunecinos que emigra...      0\n",
              "750  McKrae Game lideró durante casi veinte años la...      0"
            ]
          },
          "metadata": {
            "tags": []
          },
          "execution_count": 122
        }
      ]
    },
    {
      "cell_type": "code",
      "metadata": {
        "colab": {
          "base_uri": "https://localhost:8080/",
          "height": 388
        },
        "id": "7JUdhynDuQYB",
        "outputId": "11bc5a5f-a47d-469d-ad5e-b4a48dca853f"
      },
      "source": [
        "df.head(11)"
      ],
      "execution_count": 123,
      "outputs": [
        {
          "output_type": "execute_result",
          "data": {
            "text/html": [
              "<div>\n",
              "<style scoped>\n",
              "    .dataframe tbody tr th:only-of-type {\n",
              "        vertical-align: middle;\n",
              "    }\n",
              "\n",
              "    .dataframe tbody tr th {\n",
              "        vertical-align: top;\n",
              "    }\n",
              "\n",
              "    .dataframe thead th {\n",
              "        text-align: right;\n",
              "    }\n",
              "</style>\n",
              "<table border=\"1\" class=\"dataframe\">\n",
              "  <thead>\n",
              "    <tr style=\"text-align: right;\">\n",
              "      <th></th>\n",
              "      <th>text</th>\n",
              "      <th>label</th>\n",
              "    </tr>\n",
              "  </thead>\n",
              "  <tbody>\n",
              "    <tr>\n",
              "      <th>0</th>\n",
              "      <td>Algunas de las voces extremistas más conocida...</td>\n",
              "      <td>0</td>\n",
              "    </tr>\n",
              "    <tr>\n",
              "      <th>1</th>\n",
              "      <td>Después de casi dos años y medio de luchas po...</td>\n",
              "      <td>0</td>\n",
              "    </tr>\n",
              "    <tr>\n",
              "      <th>2</th>\n",
              "      <td>Dos periodistas birmanos de la agencia Reuter...</td>\n",
              "      <td>0</td>\n",
              "    </tr>\n",
              "    <tr>\n",
              "      <th>3</th>\n",
              "      <td>El Cuerpo Nacional de Policía ha detenido a c...</td>\n",
              "      <td>0</td>\n",
              "    </tr>\n",
              "    <tr>\n",
              "      <th>4</th>\n",
              "      <td>El desfile de la firma en Roma se convierte e...</td>\n",
              "      <td>0</td>\n",
              "    </tr>\n",
              "    <tr>\n",
              "      <th>5</th>\n",
              "      <td>El miedo a la pérdida de identidad y la avers...</td>\n",
              "      <td>0</td>\n",
              "    </tr>\n",
              "    <tr>\n",
              "      <th>6</th>\n",
              "      <td>El Ministerio de Exteriores de Rusia ha convo...</td>\n",
              "      <td>0</td>\n",
              "    </tr>\n",
              "    <tr>\n",
              "      <th>7</th>\n",
              "      <td>El nuevo plan migratorio del presidente parec...</td>\n",
              "      <td>0</td>\n",
              "    </tr>\n",
              "    <tr>\n",
              "      <th>8</th>\n",
              "      <td>El secretario general de Podemos , Lander Mar...</td>\n",
              "      <td>0</td>\n",
              "    </tr>\n",
              "    <tr>\n",
              "      <th>9</th>\n",
              "      <td>Ernest Maragall, el candidato que podría arre...</td>\n",
              "      <td>0</td>\n",
              "    </tr>\n",
              "    <tr>\n",
              "      <th>10</th>\n",
              "      <td>España es líder mundial en donación y traspla...</td>\n",
              "      <td>0</td>\n",
              "    </tr>\n",
              "  </tbody>\n",
              "</table>\n",
              "</div>"
            ],
            "text/plain": [
              "                                                 text  label\n",
              "0    Algunas de las voces extremistas más conocida...      0\n",
              "1    Después de casi dos años y medio de luchas po...      0\n",
              "2    Dos periodistas birmanos de la agencia Reuter...      0\n",
              "3    El Cuerpo Nacional de Policía ha detenido a c...      0\n",
              "4    El desfile de la firma en Roma se convierte e...      0\n",
              "5    El miedo a la pérdida de identidad y la avers...      0\n",
              "6    El Ministerio de Exteriores de Rusia ha convo...      0\n",
              "7    El nuevo plan migratorio del presidente parec...      0\n",
              "8    El secretario general de Podemos , Lander Mar...      0\n",
              "9    Ernest Maragall, el candidato que podría arre...      0\n",
              "10   España es líder mundial en donación y traspla...      0"
            ]
          },
          "metadata": {
            "tags": []
          },
          "execution_count": 123
        }
      ]
    },
    {
      "cell_type": "code",
      "metadata": {
        "id": "5VOOfYsjv8K9"
      },
      "source": [
        "news_dataset = df"
      ],
      "execution_count": 124,
      "outputs": []
    },
    {
      "cell_type": "code",
      "metadata": {
        "id": "IdeM6ayKP1xX"
      },
      "source": [
        "news_dataset.to_csv('modificado.csv')"
      ],
      "execution_count": 12,
      "outputs": []
    },
    {
      "cell_type": "code",
      "metadata": {
        "id": "QnSw8P4OwObx"
      },
      "source": [
        "# Contenido a entrenar\n",
        "news_dataset['content'] = news_dataset['text']"
      ],
      "execution_count": 126,
      "outputs": []
    },
    {
      "cell_type": "code",
      "metadata": {
        "colab": {
          "base_uri": "https://localhost:8080/"
        },
        "id": "8qIDlcR8whw3",
        "outputId": "0fdc72d4-76c8-47e7-8486-9beeb7650d99"
      },
      "source": [
        "print(news_dataset['content'])"
      ],
      "execution_count": 127,
      "outputs": [
        {
          "output_type": "stream",
          "text": [
            "0       Algunas de las voces extremistas más conocida...\n",
            "1       Después de casi dos años y medio de luchas po...\n",
            "2       Dos periodistas birmanos de la agencia Reuter...\n",
            "3       El Cuerpo Nacional de Policía ha detenido a c...\n",
            "4       El desfile de la firma en Roma se convierte e...\n",
            "                             ...                        \n",
            "995    Reenviado... Me acaban de llegar a casa por co...\n",
            "996    JULIO ANGUITA: \"El que debería estar en la cár...\n",
            "997    Otegi reclama la salida de prisión de todos lo...\n",
            "998    Otegi reclama la salida de prisión de todos lo...\n",
            "999    ¡ALERTA! ¡Estos paquetes de merienda son pelig...\n",
            "Name: content, Length: 2000, dtype: object\n"
          ],
          "name": "stdout"
        }
      ]
    },
    {
      "cell_type": "code",
      "metadata": {
        "id": "cjHdYmHhwlpp"
      },
      "source": [
        "X = news_dataset['text']\n",
        "Y = news_dataset['label']"
      ],
      "execution_count": 128,
      "outputs": []
    },
    {
      "cell_type": "code",
      "metadata": {
        "colab": {
          "base_uri": "https://localhost:8080/"
        },
        "id": "0GqzQp3IwvTC",
        "outputId": "6a8ea511-8f7f-4cbb-c7d4-9a647a152ba7"
      },
      "source": [
        "print(X)\n",
        "print(Y)"
      ],
      "execution_count": 129,
      "outputs": [
        {
          "output_type": "stream",
          "text": [
            "0       Algunas de las voces extremistas más conocida...\n",
            "1       Después de casi dos años y medio de luchas po...\n",
            "2       Dos periodistas birmanos de la agencia Reuter...\n",
            "3       El Cuerpo Nacional de Policía ha detenido a c...\n",
            "4       El desfile de la firma en Roma se convierte e...\n",
            "                             ...                        \n",
            "995    Reenviado... Me acaban de llegar a casa por co...\n",
            "996    JULIO ANGUITA: \"El que debería estar en la cár...\n",
            "997    Otegi reclama la salida de prisión de todos lo...\n",
            "998    Otegi reclama la salida de prisión de todos lo...\n",
            "999    ¡ALERTA! ¡Estos paquetes de merienda son pelig...\n",
            "Name: text, Length: 2000, dtype: object\n",
            "0      0\n",
            "1      0\n",
            "2      0\n",
            "3      0\n",
            "4      0\n",
            "      ..\n",
            "995    1\n",
            "996    1\n",
            "997    1\n",
            "998    1\n",
            "999    1\n",
            "Name: label, Length: 2000, dtype: int64\n"
          ],
          "name": "stdout"
        }
      ]
    },
    {
      "cell_type": "code",
      "metadata": {
        "id": "5meaq8BmxIX6"
      },
      "source": [
        "port_stem = PorterStemmer()"
      ],
      "execution_count": 17,
      "outputs": []
    },
    {
      "cell_type": "code",
      "metadata": {
        "id": "nujtnfC0xLWx"
      },
      "source": [
        "#Reducción de palabras\n",
        "def stemming(content):\n",
        "    stemmed_content = re.sub('[^a-zA-Z]',' ',content)\n",
        "    stemmed_content = stemmed_content.lower()\n",
        "    stemmed_content = stemmed_content.split()\n",
        "    stemmed_content = [port_stem.stem(word) for word in stemmed_content if not word in stopwords.words('spanish')]\n",
        "    stemmed_content = ' '.join(stemmed_content)\n",
        "    return stemmed_content"
      ],
      "execution_count": 131,
      "outputs": []
    },
    {
      "cell_type": "code",
      "metadata": {
        "id": "C6A4I_RYxOub"
      },
      "source": [
        "news_dataset['content'] = news_dataset['content'].apply(stemming)"
      ],
      "execution_count": 132,
      "outputs": []
    },
    {
      "cell_type": "code",
      "metadata": {
        "colab": {
          "base_uri": "https://localhost:8080/"
        },
        "id": "xoLVqKcox2-r",
        "outputId": "d09e4105-8084-4d42-d2a1-638449fd9bc2"
      },
      "source": [
        "#Datos completamente limpios\n",
        "print(news_dataset['content'])"
      ],
      "execution_count": 134,
      "outputs": [
        {
          "output_type": "stream",
          "text": [
            "0      voce extremista m s conocida ee uu cuenta asoc...\n",
            "1      despu s casi do medio lucha pol tica judicial ...\n",
            "2      do periodista birmano agencia reuter liberado ...\n",
            "3      cuerpo nacion polic detenido cuatro persona ac...\n",
            "4      desfil firma roma conviert oda libertad mujer ...\n",
            "                             ...                        \n",
            "995    reenviado acaban llegar casa correo papeleta p...\n",
            "996    julio anguita deber c rcel jordi pujol corrupt...\n",
            "997    otegi reclama salida prisi n etarra apoyar inv...\n",
            "998    otegi reclama salida prisi n etarra apoyar inv...\n",
            "999    alerta paquet merienda peligroso hecho turqu e...\n",
            "Name: content, Length: 2000, dtype: object\n"
          ],
          "name": "stdout"
        }
      ]
    },
    {
      "cell_type": "code",
      "metadata": {
        "id": "aZQwVEyRx_Xl"
      },
      "source": [
        "X = news_dataset['content'].values\n",
        "Y = news_dataset['label'].values"
      ],
      "execution_count": 135,
      "outputs": []
    },
    {
      "cell_type": "code",
      "metadata": {
        "colab": {
          "base_uri": "https://localhost:8080/",
          "height": 203
        },
        "id": "aW-7RboFVt26",
        "outputId": "ce1c7b27-643b-4133-c0b5-97ae25101e9b"
      },
      "source": [
        "news_dataset.head()"
      ],
      "execution_count": 136,
      "outputs": [
        {
          "output_type": "execute_result",
          "data": {
            "text/html": [
              "<div>\n",
              "<style scoped>\n",
              "    .dataframe tbody tr th:only-of-type {\n",
              "        vertical-align: middle;\n",
              "    }\n",
              "\n",
              "    .dataframe tbody tr th {\n",
              "        vertical-align: top;\n",
              "    }\n",
              "\n",
              "    .dataframe thead th {\n",
              "        text-align: right;\n",
              "    }\n",
              "</style>\n",
              "<table border=\"1\" class=\"dataframe\">\n",
              "  <thead>\n",
              "    <tr style=\"text-align: right;\">\n",
              "      <th></th>\n",
              "      <th>text</th>\n",
              "      <th>label</th>\n",
              "      <th>content</th>\n",
              "    </tr>\n",
              "  </thead>\n",
              "  <tbody>\n",
              "    <tr>\n",
              "      <th>0</th>\n",
              "      <td>Algunas de las voces extremistas más conocida...</td>\n",
              "      <td>0</td>\n",
              "      <td>voce extremista m s conocida ee uu cuenta asoc...</td>\n",
              "    </tr>\n",
              "    <tr>\n",
              "      <th>1</th>\n",
              "      <td>Después de casi dos años y medio de luchas po...</td>\n",
              "      <td>0</td>\n",
              "      <td>despu s casi do medio lucha pol tica judicial ...</td>\n",
              "    </tr>\n",
              "    <tr>\n",
              "      <th>2</th>\n",
              "      <td>Dos periodistas birmanos de la agencia Reuter...</td>\n",
              "      <td>0</td>\n",
              "      <td>do periodista birmano agencia reuter liberado ...</td>\n",
              "    </tr>\n",
              "    <tr>\n",
              "      <th>3</th>\n",
              "      <td>El Cuerpo Nacional de Policía ha detenido a c...</td>\n",
              "      <td>0</td>\n",
              "      <td>cuerpo nacion polic detenido cuatro persona ac...</td>\n",
              "    </tr>\n",
              "    <tr>\n",
              "      <th>4</th>\n",
              "      <td>El desfile de la firma en Roma se convierte e...</td>\n",
              "      <td>0</td>\n",
              "      <td>desfil firma roma conviert oda libertad mujer ...</td>\n",
              "    </tr>\n",
              "  </tbody>\n",
              "</table>\n",
              "</div>"
            ],
            "text/plain": [
              "                                                text  ...                                            content\n",
              "0   Algunas de las voces extremistas más conocida...  ...  voce extremista m s conocida ee uu cuenta asoc...\n",
              "1   Después de casi dos años y medio de luchas po...  ...  despu s casi do medio lucha pol tica judicial ...\n",
              "2   Dos periodistas birmanos de la agencia Reuter...  ...  do periodista birmano agencia reuter liberado ...\n",
              "3   El Cuerpo Nacional de Policía ha detenido a c...  ...  cuerpo nacion polic detenido cuatro persona ac...\n",
              "4   El desfile de la firma en Roma se convierte e...  ...  desfil firma roma conviert oda libertad mujer ...\n",
              "\n",
              "[5 rows x 3 columns]"
            ]
          },
          "metadata": {
            "tags": []
          },
          "execution_count": 136
        }
      ]
    },
    {
      "cell_type": "code",
      "metadata": {
        "id": "Y-ugEHjdWJ8N"
      },
      "source": [
        "news_dataset.to_csv('modificado2content.csv')"
      ],
      "execution_count": 58,
      "outputs": []
    },
    {
      "cell_type": "code",
      "metadata": {
        "colab": {
          "base_uri": "https://localhost:8080/"
        },
        "id": "YtJ8eAabyJ15",
        "outputId": "2c136d84-03f9-41ae-f4c9-b5f0895be7bd"
      },
      "source": [
        "print(X)"
      ],
      "execution_count": 137,
      "outputs": [
        {
          "output_type": "stream",
          "text": [
            "['voce extremista m s conocida ee uu cuenta asociada movimiento conocida alt right ligada grupo antisemita xen fobo sido eliminada plumazo rede social facebook instagram trat'\n",
            " 'despu s casi do medio lucha pol tica judicial donald trump presentado hoy proyecto inmigraci n unido proyecto elaborado yerno asesor donald trump jare kushner s concreta cosa'\n",
            " 'do periodista birmano agencia reuter liberado mart recibir perd n president pa s tra pasar medio prisi n revelar matanza ej rcito minor musulmana rohingya wa lone kyaw soe oo'\n",
            " ... 'otegi reclama salida prisi n etarra apoyar investidura s nchez'\n",
            " 'otegi reclama salida prisi n etarra apoyar investidura s nchez'\n",
            " 'alerta paquet merienda peligroso hecho turqu exportado unido israel dentro cada pastel tableta causan par lisi coma compr plz fwd']\n"
          ],
          "name": "stdout"
        }
      ]
    },
    {
      "cell_type": "code",
      "metadata": {
        "colab": {
          "base_uri": "https://localhost:8080/"
        },
        "id": "izLVe1ocyM9H",
        "outputId": "e2ea3440-8b8c-40ad-9e7f-9a3a7e351d7b"
      },
      "source": [
        "print(Y)"
      ],
      "execution_count": 138,
      "outputs": [
        {
          "output_type": "stream",
          "text": [
            "[0 0 0 ... 1 1 1]\n"
          ],
          "name": "stdout"
        }
      ]
    },
    {
      "cell_type": "code",
      "metadata": {
        "colab": {
          "base_uri": "https://localhost:8080/"
        },
        "id": "nkkNtA9gyZvm",
        "outputId": "a5065248-782f-4930-efb6-8fc6373a34db"
      },
      "source": [
        "Y.shape"
      ],
      "execution_count": 139,
      "outputs": [
        {
          "output_type": "execute_result",
          "data": {
            "text/plain": [
              "(2000,)"
            ]
          },
          "metadata": {
            "tags": []
          },
          "execution_count": 139
        }
      ]
    },
    {
      "cell_type": "code",
      "metadata": {
        "id": "V8Q81AsGyely"
      },
      "source": [
        "#Convertiendo los datos en forma de texto a numerico(Entendible por el modelo)\n",
        "vectorizer = TfidfVectorizer()\n",
        "vectorizer.fit(X)\n",
        "\n",
        "X = vectorizer.transform(X)"
      ],
      "execution_count": 140,
      "outputs": []
    },
    {
      "cell_type": "code",
      "metadata": {
        "colab": {
          "base_uri": "https://localhost:8080/"
        },
        "id": "hvys6kL3yo6K",
        "outputId": "6c39e6bd-89f0-4db4-b554-37ba6655cb49"
      },
      "source": [
        "print(X)"
      ],
      "execution_count": 141,
      "outputs": [
        {
          "output_type": "stream",
          "text": [
            "  (0, 10916)\t0.21441550501133272\n",
            "  (0, 10841)\t0.20778422001587216\n",
            "  (0, 10543)\t0.1903166263142342\n",
            "  (0, 10351)\t0.20778422001587216\n",
            "  (0, 9712)\t0.130219277843991\n",
            "  (0, 9604)\t0.11935869998661988\n",
            "  (0, 9140)\t0.23501415763213218\n",
            "  (0, 8802)\t0.1624335289114491\n",
            "  (0, 8008)\t0.2229647182835829\n",
            "  (0, 6939)\t0.20236606566278345\n",
            "  (0, 6148)\t0.23501415763213218\n",
            "  (0, 5578)\t0.19778508143017548\n",
            "  (0, 4948)\t0.12811076438086888\n",
            "  (0, 4563)\t0.20778422001587216\n",
            "  (0, 4344)\t0.1651369894608268\n",
            "  (0, 4331)\t0.2229647182835829\n",
            "  (0, 3679)\t0.23501415763213218\n",
            "  (0, 3602)\t0.1903166263142342\n",
            "  (0, 2775)\t0.153563041440026\n",
            "  (0, 2388)\t0.35437285761875204\n",
            "  (0, 975)\t0.21441550501133272\n",
            "  (0, 691)\t0.23501415763213218\n",
            "  (0, 521)\t0.23501415763213218\n",
            "  (1, 10938)\t0.23254329728581893\n",
            "  (1, 10483)\t0.1459699297057785\n",
            "  :\t:\n",
            "  (1998, 7529)\t0.38271255521056285\n",
            "  (1998, 7076)\t0.2545678366276855\n",
            "  (1998, 5709)\t0.33888701104098157\n",
            "  (1998, 4149)\t0.3915767231668282\n",
            "  (1998, 780)\t0.38271255521056285\n",
            "  (1999, 10483)\t0.15308318869636411\n",
            "  (1999, 10427)\t0.2570548525594901\n",
            "  (1999, 9998)\t0.2570548525594901\n",
            "  (1999, 8014)\t0.2570548525594901\n",
            "  (1999, 7772)\t0.21633426453006682\n",
            "  (1999, 7714)\t0.2570548525594901\n",
            "  (1999, 7628)\t0.17911217066604376\n",
            "  (1999, 7625)\t0.23452436475521066\n",
            "  (1999, 6699)\t0.2570548525594901\n",
            "  (1999, 6175)\t0.21633426453006682\n",
            "  (1999, 5774)\t0.20816538377829305\n",
            "  (1999, 5082)\t0.15115165281516152\n",
            "  (1999, 4701)\t0.2570548525594901\n",
            "  (1999, 4294)\t0.2570548525594901\n",
            "  (1999, 3029)\t0.17628389865819297\n",
            "  (1999, 2241)\t0.24387536207103128\n",
            "  (1999, 2129)\t0.23452436475521066\n",
            "  (1999, 1798)\t0.2570548525594901\n",
            "  (1999, 1553)\t0.14012557362929393\n",
            "  (1999, 455)\t0.18946338914665176\n"
          ],
          "name": "stdout"
        }
      ]
    },
    {
      "cell_type": "code",
      "metadata": {
        "id": "dHWmE4EOyu6-"
      },
      "source": [
        "#Dividiendo los datos en datos de entrenamiento y datos de testeo\n",
        "#Datos de entrenamiento 80%\n",
        "#Datos de testeo 20%\n",
        "X_train, X_test, Y_train, Y_test = train_test_split(X, Y, test_size = 0.2, stratify=Y, random_state=2)"
      ],
      "execution_count": 142,
      "outputs": []
    },
    {
      "cell_type": "code",
      "metadata": {
        "id": "EbMBksu-yxyN"
      },
      "source": [
        "model = LogisticRegression(penalty='l2')"
      ],
      "execution_count": 143,
      "outputs": []
    },
    {
      "cell_type": "code",
      "metadata": {
        "colab": {
          "base_uri": "https://localhost:8080/"
        },
        "id": "-M6UCAi1y0XG",
        "outputId": "c888289b-e27b-4c96-c14b-bfb641189322"
      },
      "source": [
        "model.fit(X_train, Y_train)"
      ],
      "execution_count": 144,
      "outputs": [
        {
          "output_type": "execute_result",
          "data": {
            "text/plain": [
              "LogisticRegression(C=1.0, class_weight=None, dual=False, fit_intercept=True,\n",
              "                   intercept_scaling=1, l1_ratio=None, max_iter=100,\n",
              "                   multi_class='auto', n_jobs=None, penalty='l2',\n",
              "                   random_state=None, solver='lbfgs', tol=0.0001, verbose=0,\n",
              "                   warm_start=False)"
            ]
          },
          "metadata": {
            "tags": []
          },
          "execution_count": 144
        }
      ]
    },
    {
      "cell_type": "code",
      "metadata": {
        "id": "8XyOU0VPy3Te"
      },
      "source": [
        "# Precision del modelo en datos de entrenamiento\n",
        "X_train_prediction = model.predict(X_train)\n",
        "training_data_accuracy = accuracy_score(X_train_prediction, Y_train)"
      ],
      "execution_count": 145,
      "outputs": []
    },
    {
      "cell_type": "code",
      "metadata": {
        "colab": {
          "base_uri": "https://localhost:8080/"
        },
        "id": "NUPsPl4Sy6Hk",
        "outputId": "18475911-c464-474a-fe78-aa121631ca6f"
      },
      "source": [
        "print('Precisión datos de entrenamiento : ', training_data_accuracy)"
      ],
      "execution_count": 146,
      "outputs": [
        {
          "output_type": "stream",
          "text": [
            "Precisión datos de entrenamiento :  0.98375\n"
          ],
          "name": "stdout"
        }
      ]
    },
    {
      "cell_type": "code",
      "metadata": {
        "id": "KDhYFbnKy_dO"
      },
      "source": [
        "# Precision de los datos de testeo\n",
        "X_test_prediction = model.predict(X_test)\n",
        "test_data_accuracy = accuracy_score(X_test_prediction, Y_test)"
      ],
      "execution_count": 147,
      "outputs": []
    },
    {
      "cell_type": "code",
      "metadata": {
        "colab": {
          "base_uri": "https://localhost:8080/"
        },
        "id": "gW6g-2c6zCmT",
        "outputId": "56f69636-e873-4e27-91b8-fea0b59c6191"
      },
      "source": [
        "print('Precisión de los datos de testeo : ', test_data_accuracy)"
      ],
      "execution_count": 148,
      "outputs": [
        {
          "output_type": "stream",
          "text": [
            "Precisión de los datos de testeo :  0.7375\n"
          ],
          "name": "stdout"
        }
      ]
    },
    {
      "cell_type": "markdown",
      "metadata": {
        "id": "CtWITUG6TZLi"
      },
      "source": [
        "TESTEO OTROS MODELOS MAS COMPLEJOS"
      ]
    },
    {
      "cell_type": "markdown",
      "metadata": {
        "id": "Zrgi43sNEpmv"
      },
      "source": [
        "**Clasificador de árbol de decisión**\n",
        "\n",
        "\n",
        "\n",
        "\n",
        "\n",
        "\n"
      ]
    },
    {
      "cell_type": "code",
      "metadata": {
        "id": "AsJiaSeyEzPQ"
      },
      "source": [
        "from sklearn.tree import DecisionTreeClassifier"
      ],
      "execution_count": 149,
      "outputs": []
    },
    {
      "cell_type": "code",
      "metadata": {
        "colab": {
          "base_uri": "https://localhost:8080/"
        },
        "id": "EJNK9KreE-vs",
        "outputId": "fec75324-ebee-42d9-801f-5ba8b09de369"
      },
      "source": [
        "dtc = DecisionTreeClassifier()\n",
        "dtc.fit(X_train, Y_train)"
      ],
      "execution_count": 55,
      "outputs": [
        {
          "output_type": "execute_result",
          "data": {
            "text/plain": [
              "DecisionTreeClassifier(ccp_alpha=0.0, class_weight=None, criterion='gini',\n",
              "                       max_depth=None, max_features=None, max_leaf_nodes=None,\n",
              "                       min_impurity_decrease=0.0, min_impurity_split=None,\n",
              "                       min_samples_leaf=1, min_samples_split=2,\n",
              "                       min_weight_fraction_leaf=0.0, presort='deprecated',\n",
              "                       random_state=None, splitter='best')"
            ]
          },
          "metadata": {
            "tags": []
          },
          "execution_count": 55
        }
      ]
    },
    {
      "cell_type": "code",
      "metadata": {
        "id": "YpoZFNijFB4G"
      },
      "source": [
        "# Precision del modelo en datos de entrenamiento\n",
        "X_train_predictionn = dtc.predict(X_train)\n",
        "training_data_accuracyy = accuracy_score(X_train_predictionn, Y_train)"
      ],
      "execution_count": 150,
      "outputs": []
    },
    {
      "cell_type": "code",
      "metadata": {
        "colab": {
          "base_uri": "https://localhost:8080/"
        },
        "id": "_k-MBqcsFEZo",
        "outputId": "59f19e40-425e-4516-fa1f-fafe39fee381"
      },
      "source": [
        "print('Precisión datos de entrenamiento : ', training_data_accuracyy)"
      ],
      "execution_count": 151,
      "outputs": [
        {
          "output_type": "stream",
          "text": [
            "Precisión datos de entrenamiento :  0.86375\n"
          ],
          "name": "stdout"
        }
      ]
    },
    {
      "cell_type": "code",
      "metadata": {
        "id": "rBYnAmaEF9NF"
      },
      "source": [
        "# Precision de los datos de testeo\n",
        "X_test_predictionn = dtc.predict(X_test)\n",
        "test_data_accuracyy = accuracy_score(X_test_predictionn, Y_test)"
      ],
      "execution_count": 152,
      "outputs": []
    },
    {
      "cell_type": "code",
      "metadata": {
        "colab": {
          "base_uri": "https://localhost:8080/"
        },
        "id": "-jssNFm6FHLf",
        "outputId": "79383a72-d015-4e08-da0c-d41b7291c0a9"
      },
      "source": [
        "print('Precisión de los datos de testeo : ', test_data_accuracyy)"
      ],
      "execution_count": 153,
      "outputs": [
        {
          "output_type": "stream",
          "text": [
            "Precisión de los datos de testeo :  0.615\n"
          ],
          "name": "stdout"
        }
      ]
    },
    {
      "cell_type": "markdown",
      "metadata": {
        "id": "MWVEJg8oG0Lj"
      },
      "source": [
        "TErcer modelo"
      ]
    },
    {
      "cell_type": "code",
      "metadata": {
        "colab": {
          "base_uri": "https://localhost:8080/"
        },
        "id": "oy7_slRnG7SU",
        "outputId": "f5c5fe7b-37c8-4874-aa2f-8389f9d99372"
      },
      "source": [
        "from sklearn.ensemble import RandomForestClassifier\n",
        "rfc = RandomForestClassifier()\n",
        "rfc.fit(X_train, Y_train)"
      ],
      "execution_count": 154,
      "outputs": [
        {
          "output_type": "execute_result",
          "data": {
            "text/plain": [
              "RandomForestClassifier(bootstrap=True, ccp_alpha=0.0, class_weight=None,\n",
              "                       criterion='gini', max_depth=None, max_features='auto',\n",
              "                       max_leaf_nodes=None, max_samples=None,\n",
              "                       min_impurity_decrease=0.0, min_impurity_split=None,\n",
              "                       min_samples_leaf=1, min_samples_split=2,\n",
              "                       min_weight_fraction_leaf=0.0, n_estimators=100,\n",
              "                       n_jobs=None, oob_score=False, random_state=None,\n",
              "                       verbose=0, warm_start=False)"
            ]
          },
          "metadata": {
            "tags": []
          },
          "execution_count": 154
        }
      ]
    },
    {
      "cell_type": "code",
      "metadata": {
        "id": "pDy0UfALHFjv"
      },
      "source": [
        "# Precision del modelo en datos de entrenamiento\n",
        "X_train_predictionnn = rfc.predict(X_train)\n",
        "training_data_accuracyyy = accuracy_score(X_train_predictionnn, Y_train)"
      ],
      "execution_count": 155,
      "outputs": []
    },
    {
      "cell_type": "code",
      "metadata": {
        "colab": {
          "base_uri": "https://localhost:8080/"
        },
        "id": "7C8NtOdZHVP7",
        "outputId": "6a532e38-bc22-45ad-9047-e0f2cb9d8acb"
      },
      "source": [
        "print('Precisión datos de entrenamiento : ', training_data_accuracyyy)"
      ],
      "execution_count": 156,
      "outputs": [
        {
          "output_type": "stream",
          "text": [
            "Precisión datos de entrenamiento :  1.0\n"
          ],
          "name": "stdout"
        }
      ]
    },
    {
      "cell_type": "code",
      "metadata": {
        "id": "CH8ZPbJoHizx"
      },
      "source": [
        "# Precision de los datos de testeo\n",
        "X_test_predictionnn = rfc.predict(X_test)\n",
        "test_data_accuracyyy = accuracy_score(X_test_predictionnn, Y_test)"
      ],
      "execution_count": 157,
      "outputs": []
    },
    {
      "cell_type": "code",
      "metadata": {
        "colab": {
          "base_uri": "https://localhost:8080/"
        },
        "id": "mPULWYv3HuQP",
        "outputId": "4c0e579a-93a2-4727-dbea-2163ca9e3588"
      },
      "source": [
        "print('Precisión de los datos de testeo : ', test_data_accuracyyy)"
      ],
      "execution_count": 158,
      "outputs": [
        {
          "output_type": "stream",
          "text": [
            "Precisión de los datos de testeo :  0.74\n"
          ],
          "name": "stdout"
        }
      ]
    },
    {
      "cell_type": "markdown",
      "metadata": {
        "id": "5kt1cUqnT5dT"
      },
      "source": [
        "OVERFITTING!!!!"
      ]
    },
    {
      "cell_type": "markdown",
      "metadata": {
        "id": "-uAvh-O1GdH6"
      },
      "source": [
        "**TESTEO**"
      ]
    },
    {
      "cell_type": "code",
      "metadata": {
        "colab": {
          "base_uri": "https://localhost:8080/"
        },
        "id": "cMMNYbvNzQeD",
        "outputId": "91dba40d-72a0-4f64-84dd-ae9a185bfb3f"
      },
      "source": [
        "#Verdadera = 0\n",
        "#Falsa = 1\n",
        "print(Y_test[5])"
      ],
      "execution_count": 34,
      "outputs": [
        {
          "output_type": "stream",
          "text": [
            "0\n"
          ],
          "name": "stdout"
        }
      ]
    },
    {
      "cell_type": "markdown",
      "metadata": {
        "id": "vV98111WIcxV"
      },
      "source": [
        "TESTEO MODELO REGRESIÓN LOGISTICA"
      ]
    },
    {
      "cell_type": "code",
      "metadata": {
        "colab": {
          "base_uri": "https://localhost:8080/"
        },
        "id": "xqiLIAq_zgsy",
        "outputId": "907056cb-c19c-429b-bc6b-bf7fcf421759"
      },
      "source": [
        "#Codigo Verificador del modelo, entrega el resultado si la noticia es Falsa(1) o verdadera(0)\n",
        "X_new = X_test[5]\n",
        "\n",
        "prediction = model.predict(X_new)\n",
        "print(prediction)\n",
        "\n",
        "if (prediction[0]==0):\n",
        "  print('La noticia es real')\n",
        "else:\n",
        "  print('La noticia es falsa')"
      ],
      "execution_count": 35,
      "outputs": [
        {
          "output_type": "stream",
          "text": [
            "[0]\n",
            "La noticia es real\n"
          ],
          "name": "stdout"
        }
      ]
    },
    {
      "cell_type": "code",
      "metadata": {
        "id": "w26Ij8AjyJID"
      },
      "source": [
        "#Identificación segun texto \n",
        "def fake_news_det(news):\n",
        "    input_data = [news]\n",
        "    \n",
        "    vectorized_input_data = vectorizer.transform(input_data)\n",
        "    prediction = model.predict(vectorized_input_data)\n",
        "    print(prediction)\n",
        "    if (prediction[0]==0):\n",
        "        print('La noticia es real')\n",
        "    else:\n",
        "        print('La noticia es falsa')\n"
      ],
      "execution_count": 52,
      "outputs": []
    },
    {
      "cell_type": "code",
      "metadata": {
        "colab": {
          "base_uri": "https://localhost:8080/"
        },
        "id": "CDaS_64GyRnP",
        "outputId": "70a97372-7d7b-4251-a6a6-d1075360d074"
      },
      "source": [
        "\n",
        "fake_news_det('Se acabó la luna de miel de Sichel y Chile Vamos: diputados “le paran el carro” a su candidato presidencial tras amenazar a quienes apoyen el cuarto retiro de fondos')"
      ],
      "execution_count": 53,
      "outputs": [
        {
          "output_type": "stream",
          "text": [
            "[0]\n",
            "La noticia es real\n"
          ],
          "name": "stdout"
        }
      ]
    },
    {
      "cell_type": "markdown",
      "metadata": {
        "id": "naZHwTTGImbU"
      },
      "source": [
        "POR LO TANTO EN ESTE CASO EL RESULTADO ES *EXITOSO*"
      ]
    },
    {
      "cell_type": "code",
      "metadata": {
        "colab": {
          "base_uri": "https://localhost:8080/"
        },
        "id": "UZLTjXVTHNTB",
        "outputId": "83180077-edd8-49d3-c21f-a856becebe2e"
      },
      "source": [
        "from sklearn.externals import joblib\n",
        "joblib.dump(model ,'modelo_entrenado.pkl')"
      ],
      "execution_count": 55,
      "outputs": [
        {
          "output_type": "execute_result",
          "data": {
            "text/plain": [
              "['modelo_entrenado.pkl']"
            ]
          },
          "metadata": {
            "tags": []
          },
          "execution_count": 55
        }
      ]
    },
    {
      "cell_type": "code",
      "metadata": {
        "id": "z4apinjj_eLb"
      },
      "source": [
        "#Exportación de modelo de regresión logistica\n",
        "import pickle\n",
        "pickle.dump(model,open('modeloen.pkl', 'wb'))"
      ],
      "execution_count": 56,
      "outputs": []
    }
  ]
}